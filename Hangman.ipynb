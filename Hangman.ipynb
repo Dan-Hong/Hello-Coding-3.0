{
  "nbformat": 4,
  "nbformat_minor": 0,
  "metadata": {
    "colab": {
      "name": "Hangman.ipynb",
      "provenance": [],
      "collapsed_sections": [],
      "authorship_tag": "ABX9TyNHDW5q/SzFoAmwNpHtmV7B",
      "include_colab_link": true
    },
    "kernelspec": {
      "name": "python3",
      "display_name": "Python 3"
    }
  },
  "cells": [
    {
      "cell_type": "markdown",
      "metadata": {
        "id": "view-in-github",
        "colab_type": "text"
      },
      "source": [
        "<a href=\"https://colab.research.google.com/github/Dan-Hong/Hello-Coding-3.0/blob/main/Hangman.ipynb\" target=\"_parent\"><img src=\"https://colab.research.google.com/assets/colab-badge.svg\" alt=\"Open In Colab\"/></a>"
      ]
    },
    {
      "cell_type": "code",
      "metadata": {
        "colab": {
          "base_uri": "https://localhost:8080/"
        },
        "id": "uJsnJ2rGIF9B",
        "outputId": "95f73e53-6dd0-4750-e2bb-3469c9281abe"
      },
      "source": [
        "import random\n",
        "\n",
        "def load_word():\n",
        "  wordList = [\"mammoth\", \"interactive\", \"programming\"]\n",
        "  word = random.choice(wordList)\n",
        "  word=word.upper()\n",
        "  return word\n",
        "\n",
        "def start_round(loaded_word):\n",
        "  hidden_word = \"_\" * len(loaded_word)\n",
        "\n",
        "  print(\"Round started\")\n",
        "  print(\"\\n\")\n",
        "  print(hidden_word)\n",
        "\n",
        "  guessed = False\n",
        "  tries = 5\n",
        "  guessed_letters = []\n",
        "  guessed_words = []\n",
        "\n",
        "  while not guessed and tries > 0:\n",
        "    guess = input(\"Guess a letter or word: \").upper()\n",
        "    if guess.isalpha() and len(guess) == 1:\n",
        "      if guess in guessed_letters:\n",
        "        print(\"Letter already guessed:\", guess)\n",
        "      elif guess not in loaded_word:\n",
        "        print(guess, \"is not in the word\")\n",
        "        tries = tries - 1\n",
        "        guessed_letters.append(guess)\n",
        "      else:\n",
        "        print(guess, \"is in the word\")\n",
        "        guessed_letters.append(guess)\n",
        "        word_as_list = list(hidden_word)\n",
        "        indices =[i for i, letter in enumerate(loaded_word) if letter == guess]\n",
        "        for index in indices:\n",
        "          word_as_list[index] = guess\n",
        "        hidden_word = \"\".join(word_as_list)\n",
        "        if \"_\" not in hidden_word:\n",
        "          guessed = True\n",
        "    elif guess.isalpha():\n",
        "      if guess in guessed_words:\n",
        "        print(\"Word already guessed:\", guess)\n",
        "      elif guess != loaded_word:\n",
        "        print(guess, \"is not the word\")\n",
        "        tries -= 1\n",
        "        guessed_words.append(guess)\n",
        "      else:\n",
        "        guessed = True\n",
        "        hidden_word = loaded_word\n",
        "    else:\n",
        "      print(\"Invalid guess\")\n",
        "\n",
        "    print(hidden_word)\n",
        "\n",
        "loaded_word = load_word()\n",
        "start_round(loaded_word)\n",
        "while input(\"Restart game? y/n: \").upper() == \"Y\":\n",
        "  loaded_word = load_word()\n",
        "  start_round(loaded_word)"
      ],
      "execution_count": 2,
      "outputs": [
        {
          "output_type": "stream",
          "text": [
            "Round started\n",
            "\n",
            "\n",
            "___________\n",
            "Guess a letter or word: M\n",
            "M is not in the word\n",
            "___________\n",
            "Guess a letter or word: P\n",
            "P is not in the word\n",
            "___________\n",
            "Guess a letter or word: 2\n",
            "Invalid guess\n",
            "___________\n",
            "Guess a letter or word: I\n",
            "I is in the word\n",
            "I_______I__\n",
            "Guess a letter or word: INTERACTIVE\n",
            "INTERACTIVE\n",
            "Restart game? y/n: y\n",
            "Round started\n",
            "\n",
            "\n",
            "_______\n",
            "Guess a letter or word: M\n",
            "M is in the word\n",
            "M_MM___\n",
            "Guess a letter or word: a\n",
            "A is in the word\n",
            "MAMM___\n",
            "Guess a letter or word: O\n",
            "O is in the word\n",
            "MAMMO__\n",
            "Guess a letter or word: th\n",
            "TH is not the word\n",
            "MAMMO__\n",
            "Guess a letter or word: t\n",
            "T is in the word\n",
            "MAMMOT_\n",
            "Guess a letter or word: h\n",
            "H is in the word\n",
            "MAMMOTH\n",
            "Restart game? y/n: n\n"
          ],
          "name": "stdout"
        }
      ]
    }
  ]
}